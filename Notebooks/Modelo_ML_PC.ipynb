{
 "cells": [
  {
   "cell_type": "markdown",
   "metadata": {},
   "source": [
    "## Librerias"
   ]
  },
  {
   "cell_type": "code",
   "execution_count": 1,
   "metadata": {},
   "outputs": [],
   "source": [
    "## Manipulación de datos\n",
    "import pandas as pd\n",
    "import numpy as np\n",
    "\n",
    "## Visualización\n",
    "import matplotlib.pyplot as plt\n",
    "import seaborn as sns\n",
    "\n",
    "## Modelos\n",
    "from sklearn.ensemble import RandomForestRegressor\n",
    "import statsmodels.api as sm\n",
    "from sklearn.feature_selection import SelectFromModel\n",
    "from sklearn.preprocessing import RobustScaler\n",
    "from sklearn.metrics import root_mean_squared_error,r2_score,mean_absolute_percentage_error\n",
    "import warnings\n",
    "warnings.filterwarnings('ignore')"
   ]
  },
  {
   "cell_type": "code",
   "execution_count": 2,
   "metadata": {},
   "outputs": [],
   "source": [
    "train = pd.read_csv(\"../Data/Processed/trainClean.csv\")"
   ]
  },
  {
   "cell_type": "code",
   "execution_count": 3,
   "metadata": {},
   "outputs": [
    {
     "data": {
      "text/html": [
       "<div>\n",
       "<style scoped>\n",
       "    .dataframe tbody tr th:only-of-type {\n",
       "        vertical-align: middle;\n",
       "    }\n",
       "\n",
       "    .dataframe tbody tr th {\n",
       "        vertical-align: top;\n",
       "    }\n",
       "\n",
       "    .dataframe thead th {\n",
       "        text-align: right;\n",
       "    }\n",
       "</style>\n",
       "<table border=\"1\" class=\"dataframe\">\n",
       "  <thead>\n",
       "    <tr style=\"text-align: right;\">\n",
       "      <th></th>\n",
       "      <th>laptop_ID</th>\n",
       "      <th>TypeName</th>\n",
       "      <th>Inches</th>\n",
       "      <th>Touchscreen</th>\n",
       "      <th>ProcessorType</th>\n",
       "      <th>ModelIdentifier</th>\n",
       "      <th>Core</th>\n",
       "      <th>ProcessorSpeed(GHz)</th>\n",
       "      <th>Ram(GB)</th>\n",
       "      <th>Memory SSD GB</th>\n",
       "      <th>...</th>\n",
       "      <th>PanelType_IPS Panel, Quad HD+</th>\n",
       "      <th>PanelType_IPS Panel, Retina Display</th>\n",
       "      <th>PanelType_No penal type</th>\n",
       "      <th>PanelType_Quad HD+</th>\n",
       "      <th>OpSys_Android</th>\n",
       "      <th>OpSys_Chrome OS</th>\n",
       "      <th>OpSys_Linux</th>\n",
       "      <th>OpSys_Mac OS</th>\n",
       "      <th>OpSys_No OS</th>\n",
       "      <th>OpSys_Windows</th>\n",
       "    </tr>\n",
       "  </thead>\n",
       "  <tbody>\n",
       "    <tr>\n",
       "      <th>0</th>\n",
       "      <td>599</td>\n",
       "      <td>1</td>\n",
       "      <td>11.6</td>\n",
       "      <td>1</td>\n",
       "      <td>9.0</td>\n",
       "      <td>730</td>\n",
       "      <td>0.0</td>\n",
       "      <td>1.0</td>\n",
       "      <td>4</td>\n",
       "      <td>128.0</td>\n",
       "      <td>...</td>\n",
       "      <td>0.0</td>\n",
       "      <td>0.0</td>\n",
       "      <td>1.0</td>\n",
       "      <td>0.0</td>\n",
       "      <td>0.0</td>\n",
       "      <td>0.0</td>\n",
       "      <td>0.0</td>\n",
       "      <td>0.0</td>\n",
       "      <td>0.0</td>\n",
       "      <td>1.0</td>\n",
       "    </tr>\n",
       "    <tr>\n",
       "      <th>1</th>\n",
       "      <td>92</td>\n",
       "      <td>2</td>\n",
       "      <td>15.6</td>\n",
       "      <td>0</td>\n",
       "      <td>10.0</td>\n",
       "      <td>9830</td>\n",
       "      <td>0.0</td>\n",
       "      <td>3.0</td>\n",
       "      <td>8</td>\n",
       "      <td>0.0</td>\n",
       "      <td>...</td>\n",
       "      <td>0.0</td>\n",
       "      <td>0.0</td>\n",
       "      <td>0.0</td>\n",
       "      <td>0.0</td>\n",
       "      <td>0.0</td>\n",
       "      <td>0.0</td>\n",
       "      <td>0.0</td>\n",
       "      <td>0.0</td>\n",
       "      <td>0.0</td>\n",
       "      <td>1.0</td>\n",
       "    </tr>\n",
       "    <tr>\n",
       "      <th>2</th>\n",
       "      <td>744</td>\n",
       "      <td>3</td>\n",
       "      <td>15.6</td>\n",
       "      <td>0</td>\n",
       "      <td>1.0</td>\n",
       "      <td>7700</td>\n",
       "      <td>0.0</td>\n",
       "      <td>2.8</td>\n",
       "      <td>16</td>\n",
       "      <td>256.0</td>\n",
       "      <td>...</td>\n",
       "      <td>0.0</td>\n",
       "      <td>0.0</td>\n",
       "      <td>0.0</td>\n",
       "      <td>0.0</td>\n",
       "      <td>0.0</td>\n",
       "      <td>0.0</td>\n",
       "      <td>0.0</td>\n",
       "      <td>0.0</td>\n",
       "      <td>0.0</td>\n",
       "      <td>1.0</td>\n",
       "    </tr>\n",
       "    <tr>\n",
       "      <th>3</th>\n",
       "      <td>729</td>\n",
       "      <td>1</td>\n",
       "      <td>13.3</td>\n",
       "      <td>1</td>\n",
       "      <td>5.0</td>\n",
       "      <td>7200</td>\n",
       "      <td>0.0</td>\n",
       "      <td>2.5</td>\n",
       "      <td>8</td>\n",
       "      <td>256.0</td>\n",
       "      <td>...</td>\n",
       "      <td>0.0</td>\n",
       "      <td>0.0</td>\n",
       "      <td>0.0</td>\n",
       "      <td>0.0</td>\n",
       "      <td>0.0</td>\n",
       "      <td>0.0</td>\n",
       "      <td>0.0</td>\n",
       "      <td>0.0</td>\n",
       "      <td>0.0</td>\n",
       "      <td>1.0</td>\n",
       "    </tr>\n",
       "    <tr>\n",
       "      <th>4</th>\n",
       "      <td>957</td>\n",
       "      <td>4</td>\n",
       "      <td>15.6</td>\n",
       "      <td>0</td>\n",
       "      <td>5.0</td>\n",
       "      <td>6200</td>\n",
       "      <td>0.0</td>\n",
       "      <td>2.3</td>\n",
       "      <td>8</td>\n",
       "      <td>256.0</td>\n",
       "      <td>...</td>\n",
       "      <td>0.0</td>\n",
       "      <td>0.0</td>\n",
       "      <td>1.0</td>\n",
       "      <td>0.0</td>\n",
       "      <td>0.0</td>\n",
       "      <td>0.0</td>\n",
       "      <td>0.0</td>\n",
       "      <td>0.0</td>\n",
       "      <td>0.0</td>\n",
       "      <td>1.0</td>\n",
       "    </tr>\n",
       "  </tbody>\n",
       "</table>\n",
       "<p>5 rows × 55 columns</p>\n",
       "</div>"
      ],
      "text/plain": [
       "   laptop_ID  TypeName  Inches  Touchscreen  ProcessorType  ModelIdentifier  \\\n",
       "0        599         1    11.6            1            9.0              730   \n",
       "1         92         2    15.6            0           10.0             9830   \n",
       "2        744         3    15.6            0            1.0             7700   \n",
       "3        729         1    13.3            1            5.0             7200   \n",
       "4        957         4    15.6            0            5.0             6200   \n",
       "\n",
       "   Core  ProcessorSpeed(GHz)  Ram(GB)  Memory SSD GB  ...  \\\n",
       "0   0.0                  1.0        4          128.0  ...   \n",
       "1   0.0                  3.0        8            0.0  ...   \n",
       "2   0.0                  2.8       16          256.0  ...   \n",
       "3   0.0                  2.5        8          256.0  ...   \n",
       "4   0.0                  2.3        8          256.0  ...   \n",
       "\n",
       "   PanelType_IPS Panel, Quad HD+  PanelType_IPS Panel, Retina Display  \\\n",
       "0                            0.0                                  0.0   \n",
       "1                            0.0                                  0.0   \n",
       "2                            0.0                                  0.0   \n",
       "3                            0.0                                  0.0   \n",
       "4                            0.0                                  0.0   \n",
       "\n",
       "   PanelType_No penal type  PanelType_Quad HD+  OpSys_Android  \\\n",
       "0                      1.0                 0.0            0.0   \n",
       "1                      0.0                 0.0            0.0   \n",
       "2                      0.0                 0.0            0.0   \n",
       "3                      0.0                 0.0            0.0   \n",
       "4                      1.0                 0.0            0.0   \n",
       "\n",
       "   OpSys_Chrome OS  OpSys_Linux  OpSys_Mac OS  OpSys_No OS  OpSys_Windows  \n",
       "0              0.0          0.0           0.0          0.0            1.0  \n",
       "1              0.0          0.0           0.0          0.0            1.0  \n",
       "2              0.0          0.0           0.0          0.0            1.0  \n",
       "3              0.0          0.0           0.0          0.0            1.0  \n",
       "4              0.0          0.0           0.0          0.0            1.0  \n",
       "\n",
       "[5 rows x 55 columns]"
      ]
     },
     "execution_count": 3,
     "metadata": {},
     "output_type": "execute_result"
    }
   ],
   "source": [
    "train.head()"
   ]
  },
  {
   "cell_type": "code",
   "execution_count": 4,
   "metadata": {},
   "outputs": [],
   "source": [
    "df = train.copy()"
   ]
  },
  {
   "cell_type": "markdown",
   "metadata": {},
   "source": [
    "### 1. Definir X e y"
   ]
  },
  {
   "cell_type": "code",
   "execution_count": 5,
   "metadata": {},
   "outputs": [],
   "source": [
    "# X = df.drop(['Price_euros'], axis=1)\n",
    "# y = df['Price_euros'].copy()\n",
    "X = df.drop(['Price_euros'], axis=1)\n",
    "y = df['Price_euros'].values.reshape(-1, 1)\n",
    "\n",
    "scaler_y = np.sqrt(y)"
   ]
  },
  {
   "cell_type": "markdown",
   "metadata": {},
   "source": [
    "### 2. Dividir X_train, X_test, y_train, y_test"
   ]
  },
  {
   "cell_type": "code",
   "execution_count": 6,
   "metadata": {},
   "outputs": [],
   "source": [
    "from sklearn.model_selection import train_test_split\n",
    "X_train, X_test, y_train, y_test = train_test_split(X, scaler_y, test_size = 0.20, random_state = 42)"
   ]
  },
  {
   "cell_type": "code",
   "execution_count": 7,
   "metadata": {},
   "outputs": [
    {
     "name": "stdout",
     "output_type": "stream",
     "text": [
      "RMSE 3.2335995076229973\n",
      "R2 0.8831644795960827\n",
      "MAPE 0.0757209164080001\n"
     ]
    }
   ],
   "source": [
    "rf = RandomForestRegressor(\n",
    "    n_estimators=300,\n",
    "    max_depth=10,\n",
    "    min_samples_split=5,\n",
    "    min_samples_leaf=2,\n",
    "    bootstrap=True,\n",
    "    random_state=42\n",
    ")\n",
    "\n",
    "# Entrenar el modelo en los datos de entrenamiento\n",
    "rf.fit(X_train, y_train.ravel())\n",
    "\n",
    "# Seleccionar características más importantes con `SelectFromModel`\n",
    "selector = SelectFromModel(rf, threshold=\"median\", prefit=True)\n",
    "X_train_selected = selector.transform(X_train)\n",
    "X_test_selected = selector.transform(X_test)\n",
    "\n",
    "# Entrenar `RandomForestRegressor` en los datos transformados\n",
    "rf_selected = RandomForestRegressor(\n",
    "    n_estimators=300,\n",
    "    max_depth=10,\n",
    "    min_samples_split=5,\n",
    "    min_samples_leaf=2,\n",
    "    bootstrap=True,\n",
    "    random_state=42\n",
    ")\n",
    "rf_selected.fit(X_train_selected, y_train.ravel())\n",
    "\n",
    "# Hacer predicciones en `X_test`ya escalado\n",
    "y_pred_rf = rf_selected.predict(X_test_selected)\n",
    "\n",
    "print('RMSE', root_mean_squared_error(y_test,y_pred_rf))\n",
    "print('R2', r2_score(y_test,y_pred_rf))\n",
    "print('MAPE', mean_absolute_percentage_error(y_test,y_pred_rf))"
   ]
  },
  {
   "cell_type": "markdown",
   "metadata": {},
   "source": [
    "#### Resumen general de todas las X, de aca podemos observar variables significativas para el modelo o no."
   ]
  },
  {
   "cell_type": "code",
   "execution_count": 8,
   "metadata": {},
   "outputs": [
    {
     "name": "stdout",
     "output_type": "stream",
     "text": [
      "                            OLS Regression Results                            \n",
      "==============================================================================\n",
      "Dep. Variable:                      y   R-squared:                       0.800\n",
      "Model:                            OLS   Adj. R-squared:                  0.785\n",
      "Method:                 Least Squares   F-statistic:                     54.22\n",
      "Date:                Thu, 06 Feb 2025   Prob (F-statistic):          1.22e-202\n",
      "Time:                        07:53:31   Log-Likelihood:                -2107.3\n",
      "No. Observations:                 729   AIC:                             4317.\n",
      "Df Residuals:                     678   BIC:                             4551.\n",
      "Df Model:                          50                                         \n",
      "Covariance Type:            nonrobust                                         \n",
      "=======================================================================================================\n",
      "                                          coef    std err          t      P>|t|      [0.025      0.975]\n",
      "-------------------------------------------------------------------------------------------------------\n",
      "laptop_ID                               0.0020      0.000      4.156      0.000       0.001       0.003\n",
      "TypeName                               -0.2062      0.206     -1.001      0.317      -0.611       0.198\n",
      "Inches                                 -1.4946      0.248     -6.031      0.000      -1.981      -1.008\n",
      "Touchscreen                            -0.7033      0.753     -0.934      0.351      -2.182       0.776\n",
      "ProcessorType                          -0.2804      0.083     -3.371      0.001      -0.444      -0.117\n",
      "ModelIdentifier                     -1.367e-05   2.86e-05     -0.478      0.633   -6.98e-05    4.25e-05\n",
      "Core                                   -0.5817      0.291     -2.002      0.046      -1.152      -0.011\n",
      "ProcessorSpeed(GHz)                     2.0051      0.481      4.169      0.000       1.061       2.950\n",
      "Ram(GB)                                 0.5248      0.053      9.860      0.000       0.420       0.629\n",
      "Memory SSD GB                           0.0141      0.002      7.949      0.000       0.011       0.018\n",
      "Memory HDD GB                           0.0004      0.001      0.699      0.485      -0.001       0.001\n",
      "Memory FL STO GB                       -0.0149      0.008     -1.857      0.064      -0.031       0.001\n",
      "Memory Hybrid GB                       -0.0018      0.002     -0.928      0.354      -0.006       0.002\n",
      "GpuBrand                                0.0083      0.044      0.188      0.851      -0.078       0.095\n",
      "GpuModel                                0.0033      0.000      7.647      0.000       0.002       0.004\n",
      "Weight(KG)                              2.1762      0.544      3.999      0.000       1.108       3.245\n",
      "Ancho                                  -0.0207      0.061     -0.341      0.733      -0.140       0.098\n",
      "Alto                                    0.1050      0.114      0.923      0.356      -0.118       0.328\n",
      "Pixeles                             -1.338e-05   5.75e-06     -2.326      0.020   -2.47e-05   -2.09e-06\n",
      "AspectRatio                           102.5355     87.227      1.176      0.240     -68.732     273.803\n",
      "Company_Acer                          -30.8227     22.789     -1.353      0.177     -75.568      13.923\n",
      "Company_Apple                         -60.5637     50.601     -1.197      0.232    -159.917      38.790\n",
      "Company_Asus                          -29.3379     22.819     -1.286      0.199     -74.143      15.467\n",
      "Company_Chuwi                         -33.0638     23.400     -1.413      0.158     -79.010      12.882\n",
      "Company_Dell                          -28.3460     22.818     -1.242      0.215     -73.148      16.456\n",
      "Company_Fujitsu                       -29.3376     22.908     -1.281      0.201     -74.318      15.642\n",
      "Company_Google                        -15.6281     25.665     -0.609      0.543     -66.022      34.765\n",
      "Company_HP                            -27.4540     22.807     -1.204      0.229     -72.234      17.326\n",
      "Company_Huawei                        -17.5281     23.287     -0.753      0.452     -63.251      28.195\n",
      "Company_LG                            -22.7862     23.011     -0.990      0.322     -67.967      22.395\n",
      "Company_Lenovo                        -29.8403     22.786     -1.310      0.191     -74.580      14.899\n",
      "Company_MSI                           -26.2829     22.824     -1.152      0.250     -71.098      18.532\n",
      "Company_Mediacom                      -33.2181     22.415     -1.482      0.139     -77.230      10.793\n",
      "Company_Microsoft                     -18.1499     24.474     -0.742      0.459     -66.204      29.905\n",
      "Company_Razer                         -26.7237     22.959     -1.164      0.245     -71.804      18.357\n",
      "Company_Samsung                       -24.5021     23.224     -1.055      0.292     -70.101      21.097\n",
      "Company_Toshiba                       -26.3436     22.830     -1.154      0.249     -71.171      18.483\n",
      "Company_Vero                          -41.1693     23.439     -1.756      0.079     -87.190       4.852\n",
      "Company_Xiaomi                        -29.5149     22.995     -1.284      0.200     -74.665      15.635\n",
      "PanelType_4K Ultra HD                 -48.6119     48.816     -0.996      0.320    -144.460      47.236\n",
      "PanelType_Full HD                     -66.9227     52.576     -1.273      0.203    -170.154      36.309\n",
      "PanelType_IPS Panel                   -61.9844     52.089     -1.190      0.234    -164.260      40.291\n",
      "PanelType_IPS Panel, 4K Ultra HD      -53.1174     48.825     -1.088      0.277    -148.984      42.749\n",
      "PanelType_IPS Panel, Full HD          -66.4591     52.606     -1.263      0.207    -169.749      36.830\n",
      "PanelType_IPS Panel, Quad HD+         -68.4600     51.163     -1.338      0.181    -168.917      31.997\n",
      "PanelType_IPS Panel, Retina Display   -59.4296     58.227     -1.021      0.308    -173.756      54.897\n",
      "PanelType_No penal type               -62.8326     52.264     -1.202      0.230    -165.451      39.786\n",
      "PanelType_Quad HD+                    -62.7954     50.641     -1.240      0.215    -162.228      36.637\n",
      "OpSys_Android                         -99.4257     81.908     -1.214      0.225    -260.250      61.399\n",
      "OpSys_Chrome OS                       -98.3235     83.493     -1.178      0.239    -262.259      65.612\n",
      "OpSys_Linux                           -98.0173     83.166     -1.179      0.239    -261.311      65.277\n",
      "OpSys_Mac OS                          -60.5637     50.601     -1.197      0.232    -159.917      38.790\n",
      "OpSys_No OS                           -99.1373     83.172     -1.192      0.234    -262.443      64.168\n",
      "OpSys_Windows                         -95.1456     83.166     -1.144      0.253    -258.440      68.149\n",
      "==============================================================================\n",
      "Omnibus:                       60.924   Durbin-Watson:                   1.958\n",
      "Prob(Omnibus):                  0.000   Jarque-Bera (JB):              134.426\n",
      "Skew:                           0.487   Prob(JB):                     6.45e-30\n",
      "Kurtosis:                       4.865   Cond. No.                     1.37e+16\n",
      "==============================================================================\n",
      "\n",
      "Notes:\n",
      "[1] Standard Errors assume that the covariance matrix of the errors is correctly specified.\n",
      "[2] The smallest eigenvalue is 2.32e-17. This might indicate that there are\n",
      "strong multicollinearity problems or that the design matrix is singular.\n"
     ]
    }
   ],
   "source": [
    "X_train_scaled = sm.add_constant(X_train_scaled, prepend=True)\n",
    "modelo_interacion  = sm.OLS(endog=y_train, exog=X_train,)\n",
    "modelo_interacion  = modelo_interacion.fit()\n",
    "print(modelo_interacion.summary())"
   ]
  },
  {
   "cell_type": "markdown",
   "metadata": {},
   "source": [
    "#### En este grafico podemos observas las features con mas importancia y las que menos."
   ]
  },
  {
   "cell_type": "code",
   "execution_count": 9,
   "metadata": {},
   "outputs": [
    {
     "data": {
      "image/png": "[encoded data removed]",
      "text/plain": [
       "<Figure size 1000x600 with 1 Axes>"
      ]
     },
     "metadata": {},
     "output_type": "display_data"
    }
   ],
   "source": [
    "feature_importances = rf_selected.feature_importances_\n",
    "\n",
    "# Obtener los nombres de las características seleccionadas\n",
    "selected_feature_names = X_train.columns[selector.get_support()]  # Obtener solo las columnas seleccionadas\n",
    "\n",
    "# Crear un DataFrame con la importancia de las características\n",
    "feature_importance_df = pd.DataFrame({\n",
    "    \"Feature\": selected_feature_names,  # Usar los nombres reales de las columnas seleccionadas\n",
    "    \"Importance\": feature_importances\n",
    "})\n",
    "\n",
    "# Graficar la importancia de las características\n",
    "plt.figure(figsize=(10, 6))\n",
    "plt.barh(feature_importance_df[\"Feature\"], feature_importance_df[\"Importance\"], color=\"royalblue\")\n",
    "plt.xlabel(\"Importancia\")\n",
    "plt.ylabel(\"Características\")\n",
    "plt.title(\"Feature Importance - RandomForest\")\n",
    "plt.gca().invert_yaxis()  # Invertir el eje Y para que las más importantes estén arriba\n",
    "plt.show()"
   ]
  },
  {
   "cell_type": "markdown",
   "metadata": {},
   "source": [
    "### Aca cargaremos datos desde otro csv para pdoer predecir el precio de los PC teniendo en cuenta sus especificaciones. (a este csv se le ha aplicado la misma limpieza que al de entrenamiento.)"
   ]
  },
  {
   "cell_type": "code",
   "execution_count": 10,
   "metadata": {},
   "outputs": [],
   "source": [
    "X_pred = pd.read_csv(\"../Data/Processed/test_clean.csv\")"
   ]
  },
  {
   "cell_type": "code",
   "execution_count": 11,
   "metadata": {},
   "outputs": [],
   "source": [
    "X_pred = X_pred[[col for col in X_train.columns if col in X_pred.columns]]\n",
    "# Esta lista de compresion es para segurarnos que los datos del csv a predecir,\n",
    "#  tengan el mismo orden y las mismas columnas que X_train con el metodo POLY."
   ]
  },
  {
   "cell_type": "code",
   "execution_count": 12,
   "metadata": {},
   "outputs": [
    {
     "data": {
      "text/plain": [
       "array([1227.83501443, 1165.46976013,  261.07986758, 1914.72206815,\n",
       "       1472.22818522,  387.69174074, 2614.72337824,  467.14260689,\n",
       "       1748.43189146,  823.59361141])"
      ]
     },
     "execution_count": 12,
     "metadata": {},
     "output_type": "execute_result"
    }
   ],
   "source": [
    "X_pred_selected = selector.transform(X_pred)\n",
    "# Aplicamos el selector de caracteristicas mas importantes a los datos a predecir (con los datos transformados).\n",
    "\n",
    "X_poly_pred_scaled = scaler_X.transform(X_pred_selected) \n",
    "# Aplicamos el scaler a los datos a predeci (con los datos transformados con el metodo POLY).\n",
    "\n",
    "predictions_scaled = rf_selected.predict(X_poly_pred_scaled)\n",
    "# Realizamos prediccion.\n",
    "\n",
    "predictions_submit = np.square(predictions_scaled)\n",
    "# Aplicamos sqrt en y, la regresamos a su valor original\n",
    "\n",
    "predictions_submit[:10]\n",
    "# Mostramos algunas predicciones"
   ]
  },
  {
   "cell_type": "code",
   "execution_count": null,
   "metadata": {},
   "outputs": [],
   "source": [
    "sns.scatterplot"
   ]
  }
 ],
 "metadata": {
  "kernelspec": {
   "display_name": "analisis_ordenadores-EbmXH_A8-py3.12",
   "language": "python",
   "name": "python3"
  },
  "language_info": {
   "codemirror_mode": {
    "name": "ipython",
    "version": 3
   },
   "file_extension": ".py",
   "mimetype": "text/x-python",
   "name": "python",
   "nbconvert_exporter": "python",
   "pygments_lexer": "ipython3",
   "version": "3.12.6"
  }
 },
 "nbformat": 4,
 "nbformat_minor": 4
}
